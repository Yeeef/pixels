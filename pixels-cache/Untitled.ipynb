{
 "cells": [
  {
   "cell_type": "code",
   "execution_count": 2,
   "id": "5b233371",
   "metadata": {},
   "outputs": [],
   "source": [
    "import matplotlib.pyplot as plt"
   ]
  },
  {
   "cell_type": "code",
   "execution_count": 4,
   "id": "beb988b6",
   "metadata": {},
   "outputs": [],
   "source": [
    "hashCollisions = []\n",
    "with open(\"hashCollision.txt\", \"r\") as f:\n",
    "    hashCollisions = [int(v) for v in f.readlines()]\n",
    "    \n",
    "bucketCollisions = []\n",
    "with open(\"bucketCollision.txt\", \"r\") as f:\n",
    "    bucketCollisions = [int(v) for v in f.readlines()]"
   ]
  },
  {
   "cell_type": "code",
   "execution_count": 5,
   "id": "fdbc38c9",
   "metadata": {},
   "outputs": [
    {
     "data": {
      "text/plain": [
       "(array([510080.,      0.,      0.,      0.,      0.,      0.,      0.,\n",
       "             0.,      0.,    960.]),\n",
       " array([1. , 1.1, 1.2, 1.3, 1.4, 1.5, 1.6, 1.7, 1.8, 1.9, 2. ]),\n",
       " <BarContainer object of 10 artists>)"
      ]
     },
     "execution_count": 5,
     "metadata": {},
     "output_type": "execute_result"
    },
    {
     "data": {
      "image/png": "[encoded data removed]",
      "text/plain": [
       "<Figure size 432x288 with 1 Axes>"
      ]
     },
     "metadata": {
      "needs_background": "light"
     },
     "output_type": "display_data"
    }
   ],
   "source": [
    "plt.hist(hashCollisions)"
   ]
  },
  {
   "cell_type": "code",
   "execution_count": 6,
   "id": "25c0cdf9",
   "metadata": {},
   "outputs": [
    {
     "data": {
      "text/plain": [
       "(array([3.27342e+05, 0.00000e+00, 7.42820e+04, 0.00000e+00, 0.00000e+00,\n",
       "        1.08480e+04, 0.00000e+00, 8.30000e+02, 0.00000e+00, 4.60000e+01]),\n",
       " array([1. , 1.4, 1.8, 2.2, 2.6, 3. , 3.4, 3.8, 4.2, 4.6, 5. ]),\n",
       " <BarContainer object of 10 artists>)"
      ]
     },
     "execution_count": 6,
     "metadata": {},
     "output_type": "execute_result"
    },
    {
     "data": {
      "image/png": "[encoded data removed]",
      "text/plain": [
       "<Figure size 432x288 with 1 Axes>"
      ]
     },
     "metadata": {
      "needs_background": "light"
     },
     "output_type": "display_data"
    }
   ],
   "source": [
    "plt.hist(bucketCollisions)"
   ]
  },
  {
   "cell_type": "code",
   "execution_count": null,
   "id": "dc7264a9",
   "metadata": {},
   "outputs": [],
   "source": []
  }
 ],
 "metadata": {
  "kernelspec": {
   "display_name": "Python 3",
   "language": "python",
   "name": "python3"
  },
  "language_info": {
   "codemirror_mode": {
    "name": "ipython",
    "version": 3
   },
   "file_extension": ".py",
   "mimetype": "text/x-python",
   "name": "python",
   "nbconvert_exporter": "python",
   "pygments_lexer": "ipython3",
   "version": "3.8.8"
  }
 },
 "nbformat": 4,
 "nbformat_minor": 5
}
